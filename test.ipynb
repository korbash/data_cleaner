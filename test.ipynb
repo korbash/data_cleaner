{
 "cells": [
  {
   "cell_type": "code",
   "execution_count": 1,
   "metadata": {},
   "outputs": [
    {
     "name": "stderr",
     "output_type": "stream",
     "text": [
      "/tmp/ipykernel_1395698/4289673733.py:2: DeprecationWarning: \n",
      "Pyarrow will become a required dependency of pandas in the next major release of pandas (pandas 3.0),\n",
      "(to allow more performant data types, such as the Arrow string type, and better interoperability with other libraries)\n",
      "but was not found to be installed on your system.\n",
      "If this would cause problems for you,\n",
      "please provide us feedback at https://github.com/pandas-dev/pandas/issues/54466\n",
      "        \n",
      "  import pandas as pd\n"
     ]
    }
   ],
   "source": [
    "import pandas as pd\n",
    "import numpy as np\n",
    "import json\n",
    "import regex\n",
    "from sqlalchemy import create_engine\n",
    "import lib\n",
    "from dotenv import load_dotenv\n",
    "import os\n",
    "\n",
    "load_dotenv()\n",
    "engine = create_engine(os.getenv('POSTGRES'))"
   ]
  },
  {
   "cell_type": "code",
   "execution_count": 6,
   "metadata": {},
   "outputs": [],
   "source": [
    "def is_anon(uuid: list) -> list:\n",
    "    return [True, False] * (len(uuid) // 2)"
   ]
  },
  {
   "cell_type": "code",
   "execution_count": 37,
   "metadata": {},
   "outputs": [],
   "source": [
    "def transform(bath):\n",
    "    batch2 = map(lambda x: x['data'].replace(\"'\", '\"'), d)\n",
    "    batch3 = map(json.loads, batch2)\n",
    "    cols = ['uuid', 'name', 'date', 'region', 'city', 'created_at']\n",
    "    df = pd.DataFrame(batch3, columns=cols)\n",
    "    df['anon'] = is_anon(df['uuid'].to_list())\n",
    "    # df['quality'] = 10\n",
    "    df['quality_comment'] = ''\n",
    "\n",
    "    # фильтруем тестовые значения\n",
    "    mask = df['name'].str.lower().str.contains('test')\n",
    "    df.loc[mask, 'quality_comment'] = 'test'\n",
    "\n",
    "    # df.loc[0, 'name'] = df.loc[0, 'name'] + '%'\n",
    "    # pattern = r'^[A-Za-zА-Яа-я0-9]+$'\n",
    "    # mask = df['name'].apply(lambda x: bool(re.match(pattern, x)))\n",
    "    # df.loc[mask, 'quality_comment'] = 'special symbols'\n",
    "\n",
    "    # в имене больше 3 слов\n",
    "    mask = df['name'].apply(lambda x: len(x.split()) > 3)\n",
    "    df.loc[mask, 'quality_comment'] = 'more then 3 words in name'\n",
    "\n",
    "    # приводим дату к формату даты\n",
    "    date = pd.to_datetime(df['date'], dayfirst=True, errors='coerce')\n",
    "    mask = df['date'].notna() & date.isna()\n",
    "    df.loc[mask, 'quality_comment'] = 'bad date'\n",
    "    df['date'] = date\n",
    "\n",
    "    # аномизируем часть данных\n",
    "    mask = df['anon']\n",
    "    df.loc[mask, 'date'] = df[mask]['date'].dt.to_period('Y').dt.start_time\n",
    "\n",
    "    names = pd.read_csv('rendom_names.csv')\n",
    "    names = names['men'].to_list() + names['women'].to_list()\n",
    "    names_sample = np.random.choice(names, size=mask.sum())\n",
    "    df.loc[mask, 'name'] = names_sample\n",
    "    return df\n",
    "    # удаляем тест\n",
    "    return df[df['quality_comment'] != 'test']\n"
   ]
  },
  {
   "cell_type": "code",
   "execution_count": null,
   "metadata": {},
   "outputs": [],
   "source": [
    "lib.create_table()\n",
    "lib.insert()"
   ]
  },
  {
   "cell_type": "code",
   "execution_count": 8,
   "metadata": {},
   "outputs": [],
   "source": [
    "def pipeline(size, dist_table_name='topups'):\n",
    "    for batch in lib.read_by_baches(size=50):\n",
    "        df = transform(batch)\n",
    "        df.to_sql(dist_table_name, con=engine, index=False, if_exists='append')\n"
   ]
  },
  {
   "cell_type": "code",
   "execution_count": 10,
   "metadata": {},
   "outputs": [],
   "source": [
    "from sqlalchemy import create_engine"
   ]
  },
  {
   "cell_type": "code",
   "execution_count": 15,
   "metadata": {},
   "outputs": [],
   "source": [
    "engine = create_engine(os.getenv('POSTGRES'))\n"
   ]
  },
  {
   "cell_type": "code",
   "execution_count": 20,
   "metadata": {},
   "outputs": [],
   "source": [
    "df2 = pd.read_sql('SELECT * FROM topups', engine)"
   ]
  },
  {
   "cell_type": "code",
   "execution_count": 27,
   "metadata": {},
   "outputs": [],
   "source": [
    "from sqlalchemy import create_engine, MetaData, Table\n",
    "from sqlalchemy.exc import SQLAlchemyError"
   ]
  },
  {
   "cell_type": "code",
   "execution_count": 29,
   "metadata": {},
   "outputs": [],
   "source": [
    "metadata = MetaData()\n",
    "metadata.create_all(bind=engine)"
   ]
  },
  {
   "cell_type": "code",
   "execution_count": 55,
   "metadata": {},
   "outputs": [
    {
     "name": "stdout",
     "output_type": "stream",
     "text": [
      "Table topups dropped successfully.\n"
     ]
    }
   ],
   "source": [
    "table_to_drop = Table('topups', metadata, autoload_with=engine)\n",
    "try:\n",
    "    # Dropping the table\n",
    "    table_to_drop.drop(bind=engine)\n",
    "    print(f\"Table {table_to_drop.name} dropped successfully.\")\n",
    "except SQLAlchemyError as error:\n",
    "    print(f\"Error while dropping table: {error}\")"
   ]
  },
  {
   "cell_type": "code",
   "execution_count": 38,
   "metadata": {},
   "outputs": [],
   "source": [
    "for batch in lib.read_by_baches(size=50):\n",
    "    df = transform(batch)\n",
    "    break"
   ]
  },
  {
   "cell_type": "code",
   "execution_count": 44,
   "metadata": {},
   "outputs": [],
   "source": [
    "stat = df['quality_comment'].value_counts()"
   ]
  },
  {
   "cell_type": "code",
   "execution_count": 53,
   "metadata": {},
   "outputs": [
    {
     "data": {
      "text/plain": [
       "Series([], Name: count, dtype: int64)"
      ]
     },
     "execution_count": 53,
     "metadata": {},
     "output_type": "execute_result"
    }
   ],
   "source": [
    "stat.drop('test')"
   ]
  },
  {
   "cell_type": "code",
   "execution_count": 54,
   "metadata": {},
   "outputs": [
    {
     "data": {
      "text/plain": [
       "quality_comment\n",
       "test    4\n",
       "Name: count, dtype: int64"
      ]
     },
     "execution_count": 54,
     "metadata": {},
     "output_type": "execute_result"
    }
   ],
   "source": [
    "stat"
   ]
  },
  {
   "cell_type": "code",
   "execution_count": 49,
   "metadata": {},
   "outputs": [
    {
     "data": {
      "text/plain": [
       "\"'test': 4\""
      ]
     },
     "execution_count": 49,
     "metadata": {},
     "output_type": "execute_result"
    }
   ],
   "source": [
    "s = 'problemms: ' + str(stat.drop('').to_dict())[1:-1]"
   ]
  }
 ],
 "metadata": {
  "kernelspec": {
   "display_name": "data_cleaner",
   "language": "python",
   "name": "python3"
  },
  "language_info": {
   "codemirror_mode": {
    "name": "ipython",
    "version": 3
   },
   "file_extension": ".py",
   "mimetype": "text/x-python",
   "name": "python",
   "nbconvert_exporter": "python",
   "pygments_lexer": "ipython3",
   "version": "3.11.7"
  }
 },
 "nbformat": 4,
 "nbformat_minor": 2
}
